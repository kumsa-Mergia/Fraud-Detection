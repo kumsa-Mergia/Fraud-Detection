{
 "cells": [
  {
   "cell_type": "markdown",
   "id": "b15e0a5d",
   "metadata": {},
   "source": [
    "# Import The preprocessing Pipline"
   ]
  },
  {
   "cell_type": "code",
   "execution_count": 1,
   "id": "635b4c1e",
   "metadata": {},
   "outputs": [],
   "source": [
    "import sys\n",
    "import os\n",
    "\n",
    "project_root = os.path.abspath(os.path.join(os.getcwd(), \"../\"))\n",
    "if project_root not in sys.path:\n",
    "    sys.path.append(project_root)\n",
    "    \n",
    "from src.data_preprocessing.preprocessing_pipeline import *"
   ]
  },
  {
   "cell_type": "markdown",
   "id": "55352838",
   "metadata": {},
   "source": [
    "# Initialize the processor with paths to raw data files"
   ]
  },
  {
   "cell_type": "code",
   "execution_count": 2,
   "id": "0b80aa45",
   "metadata": {},
   "outputs": [],
   "source": [
    "processor = DataPreprocessor(\n",
    "    fraud_path=\"../data/raw/Fraud_Data.csv\",\n",
    "    credit_path=\"../data/raw/creditcard.csv\",\n",
    "    ip_country_path=\"../data/raw/IpAddress_to_Country.csv\"\n",
    ")"
   ]
  },
  {
   "cell_type": "markdown",
   "id": "d0e44091",
   "metadata": {},
   "source": [
    "# Load the raw data"
   ]
  },
  {
   "cell_type": "code",
   "execution_count": 3,
   "id": "5b476e89",
   "metadata": {},
   "outputs": [],
   "source": [
    "processor.load_data()"
   ]
  },
  {
   "cell_type": "markdown",
   "id": "d84bf3dd",
   "metadata": {},
   "source": [
    "### Clean the fraud data (handle missing, feature engineering, merge IP-country, encode, scale, save cleaned csv)"
   ]
  },
  {
   "cell_type": "code",
   "execution_count": 6,
   "id": "ec76989b",
   "metadata": {},
   "outputs": [
    {
     "name": "stdout",
     "output_type": "stream",
     "text": [
      " Cleaned files saved to 'data/processed/cleaned_fraud_data.csv' directory.\n"
     ]
    }
   ],
   "source": [
    "processor.clean_fraud_data()\n",
    "print(\" Cleaned files saved to 'data/processed/cleaned_fraud_data.csv' directory.\")\n"
   ]
  },
  {
   "cell_type": "markdown",
   "id": "456dc7c8",
   "metadata": {},
   "source": [
    "## Clean the credit card data (handle missing, scale, save cleaned csv)"
   ]
  },
  {
   "cell_type": "code",
   "execution_count": 7,
   "id": "5d451bcf",
   "metadata": {},
   "outputs": [
    {
     "name": "stdout",
     "output_type": "stream",
     "text": [
      " Cleaned files saved to 'data/processed/cleaned_credit_data.csv' directory.\n"
     ]
    }
   ],
   "source": [
    "processor.clean_credit_data()\n",
    "print(\" Cleaned files saved to 'data/processed/cleaned_credit_data.csv' directory.\")\n"
   ]
  },
  {
   "cell_type": "markdown",
   "id": "e040a5f3",
   "metadata": {},
   "source": [
    "### apply SMOTE to handle class imbalance on fraud data and save the balanced dataset"
   ]
  },
  {
   "cell_type": "code",
   "execution_count": 8,
   "id": "31a5a869",
   "metadata": {},
   "outputs": [
    {
     "name": "stdout",
     "output_type": "stream",
     "text": [
      "Preprocessing done! Cleaned files saved to 'data/processed/cleaned_balanced_fraud_data.csv' directory.\n"
     ]
    }
   ],
   "source": [
    "balanced_df = processor.apply_smote()\n",
    "balanced_df.to_csv(\"../data/processed/cleaned_balanced_fraud_data.csv\", index=False)\n",
    "\n",
    "print(\"Preprocessing done! Cleaned files saved to 'data/processed/cleaned_balanced_fraud_data.csv' directory.\")\n"
   ]
  }
 ],
 "metadata": {
  "kernelspec": {
   "display_name": "venv",
   "language": "python",
   "name": "python3"
  },
  "language_info": {
   "codemirror_mode": {
    "name": "ipython",
    "version": 3
   },
   "file_extension": ".py",
   "mimetype": "text/x-python",
   "name": "python",
   "nbconvert_exporter": "python",
   "pygments_lexer": "ipython3",
   "version": "3.12.3"
  }
 },
 "nbformat": 4,
 "nbformat_minor": 5
}
