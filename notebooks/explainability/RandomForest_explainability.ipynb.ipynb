{
 "cells": [
  {
   "cell_type": "markdown",
   "id": "2825d310",
   "metadata": {},
   "source": [
    "# Imports and setup"
   ]
  },
  {
   "cell_type": "code",
   "execution_count": null,
   "id": "37d85563",
   "metadata": {},
   "outputs": [],
   "source": [
    "import sys\n",
    "import os\n",
    "import pandas as pd\n",
    "import shap\n",
    "\n",
    "project_root = os.path.abspath(os.path.join(os.getcwd(), \"../../\"))\n",
    "if project_root not in sys.path:\n",
    "    sys.path.append(project_root)"
   ]
  },
  {
   "cell_type": "code",
   "execution_count": null,
   "id": "4a116559",
   "metadata": {},
   "outputs": [],
   "source": [
    "from sklearn.model_selection import train_test_split\n",
    "from sklearn.ensemble import RandomForestClassifier\n",
    "from src.explainability.shap_explainer import SHAPExplainer"
   ]
  },
  {
   "cell_type": "markdown",
   "id": "999f2ad7",
   "metadata": {},
   "source": [
    "# Load and prepare data"
   ]
  },
  {
   "cell_type": "code",
   "execution_count": null,
   "id": "41e086e3",
   "metadata": {},
   "outputs": [],
   "source": [
    "df = pd.read_csv(\"../../data/processed/cleaned_balanced_fraud_data.csv\")\n",
    "X = df.drop(\"class\", axis=1)\n",
    "y = df[\"class\"]\n"
   ]
  },
  {
   "cell_type": "code",
   "execution_count": null,
   "id": "c5a8d00c",
   "metadata": {},
   "outputs": [],
   "source": [
    "X_train, X_test, y_train, y_test = train_test_split(X, y, stratify=y, random_state=42)"
   ]
  },
  {
   "cell_type": "markdown",
   "id": "3f8050bc",
   "metadata": {},
   "source": [
    "# Train RandomForest model"
   ]
  },
  {
   "cell_type": "code",
   "execution_count": null,
   "id": "36bf4f3f",
   "metadata": {},
   "outputs": [],
   "source": [
    "model = RandomForestClassifier(n_estimators=100, random_state=42)\n",
    "model.fit(X_train, y_train)"
   ]
  },
  {
   "cell_type": "markdown",
   "id": "4db46719",
   "metadata": {},
   "source": [
    "# SHAP for explainability"
   ]
  },
  {
   "cell_type": "markdown",
   "id": "8ff6d5c5",
   "metadata": {},
   "source": [
    "### -------- Sample 500 rows from the training set"
   ]
  },
  {
   "cell_type": "code",
   "execution_count": null,
   "id": "dd101d1c",
   "metadata": {},
   "outputs": [],
   "source": [
    "X_train_sampled = X_train.sample(n=500, random_state=42)"
   ]
  },
  {
   "cell_type": "markdown",
   "id": "3513ad51",
   "metadata": {},
   "source": [
    "### --------- Use sampled data for SHAP explanation only"
   ]
  },
  {
   "cell_type": "code",
   "execution_count": null,
   "id": "825c2c4e",
   "metadata": {},
   "outputs": [],
   "source": [
    "explainer = SHAPExplainer(model=model, X_train=X_train_sampled, X_test=X_test, model_type=\"tree\")\n",
    "shap_values = explainer.fit()"
   ]
  },
  {
   "cell_type": "markdown",
   "id": "80023ae2",
   "metadata": {},
   "source": [
    "# Global feature importance (summary plot)"
   ]
  },
  {
   "cell_type": "code",
   "execution_count": null,
   "id": "e9032b2a",
   "metadata": {},
   "outputs": [],
   "source": [
    "explainer.plot_summary(plot_type=\"bar\")"
   ]
  },
  {
   "cell_type": "markdown",
   "id": "bc7ac086",
   "metadata": {},
   "source": [
    "# Local explanation (force plot for a single prediction)"
   ]
  },
  {
   "cell_type": "code",
   "execution_count": null,
   "id": "14eb74b0",
   "metadata": {},
   "outputs": [],
   "source": [
    "force_plot_html = shap.force_plot(\n",
    "    base_value=shap_values.base_values[0],\n",
    "    shap_values=shap_values.values[0],\n",
    "    features=X_test.iloc[0],\n",
    "    feature_names=X_test.columns,\n",
    "    matplotlib=False\n",
    ")\n",
    "# Save as HTML file\n",
    "shap.save_html(\"shap_force_plot_randomForest.html\", force_plot_html)"
   ]
  }
 ],
 "metadata": {
  "kernelspec": {
   "display_name": "venv",
   "language": "python",
   "name": "python3"
  },
  "language_info": {
   "codemirror_mode": {
    "name": "ipython",
    "version": 3
   },
   "file_extension": ".py",
   "mimetype": "text/x-python",
   "name": "python",
   "nbconvert_exporter": "python",
   "pygments_lexer": "ipython3",
   "version": "3.12.3"
  }
 },
 "nbformat": 4,
 "nbformat_minor": 5
}
